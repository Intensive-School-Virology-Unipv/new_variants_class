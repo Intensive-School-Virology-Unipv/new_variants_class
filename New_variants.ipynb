{
 "cells": [
  {
   "cell_type": "markdown",
   "id": "9c85a78f",
   "metadata": {},
   "source": [
    "Just pretend you are the bioinformatician at the Covid-19 surveillance center of Wakanda (I chose a place that doesn't exist, because no one wants new waves or new variants)\n",
    "\n",
    "\n",
    "We have sequenced six genomes and processed them as you learned yesterday.\n",
    "Pangolin identifies our six genomes as part of lineage \"U.3\" (a sublineage of B.1.177, the UK variant / Kent variant / Alpha variant)\n",
    "\n",
    "Are they a new lineage, instead? A new variant derived from the U.3? We will need to compare them with genomes that are available from public databases and see if they are eligible for a new Pango lineage proposal (see guidelines at https://www.pango.network/the-pango-nomenclature-system/statement-of-nomenclature-rules/)\n",
    "\n",
    "We will download all available genomes and metadata from the GISAID database (for this practice, we will use a very narrow subset). We will use python and recall a couple of stand-alone programs to do this\n",
    "\n",
    "Let's start!\n",
    "\n",
    "First of all we will need to load python libraries"
   ]
  },
  {
   "cell_type": "code",
   "execution_count": null,
   "id": "0f55316a",
   "metadata": {},
   "outputs": [],
   "source": [
    "import sys\n",
    "from Bio import SeqIO\n",
    "import pandas as pd\n",
    "import numpy as np\n",
    "import os\n",
    "from Bio import AlignIO\n",
    "import operator\n",
    "from Bio import Phylo\n",
    "import matplotlib as mpl\n",
    "from Bio.Align import MultipleSeqAlignment\n",
    "import collections"
   ]
  },
  {
   "cell_type": "markdown",
   "id": "c1b9f9fc",
   "metadata": {},
   "source": [
    "And open the metadata file as a dataframe using the library pandas (pd)"
   ]
  },
  {
   "cell_type": "code",
   "execution_count": null,
   "id": "da420b3e",
   "metadata": {},
   "outputs": [],
   "source": [
    "df = pd.read_csv(\"/home/student/DATA/new_variants_data/Gisaid_metadata_subset.tsv\", sep=\"\\t\")\n",
    "\n",
    "print(df)"
   ]
  },
  {
   "cell_type": "markdown",
   "id": "7a3aad43",
   "metadata": {},
   "source": [
    "Now we need to select high quality genomes, i.e. :\n",
    "\n",
    "a) complete\n",
    "\n",
    "b) high coverage\n",
    "\n",
    "c) low number of N positions. In our case, at most 0.1% of the genome (~30 nucleotides) is \"N\""
   ]
  },
  {
   "cell_type": "code",
   "execution_count": null,
   "id": "9824541b",
   "metadata": {},
   "outputs": [],
   "source": [
    "df2=df[(df[\"Is complete?\"] == True) & (df[\"Is high coverage?\"] == True)]\n",
    "df3=df2[(df2[\"N-Content\"] <= 0.001) | (df2[\"N-Content\"].isna()) ]\n",
    "LL=df3[\"Virus name\"].to_list()\n",
    "\n",
    "print(\"We have selected %i genomes\" %(len(LL)))"
   ]
  },
  {
   "cell_type": "markdown",
   "id": "e87dec44",
   "metadata": {},
   "source": [
    "Now we build a fasta file with the selected genome. We will add the Pango lineage to the name (it will be useful to understand the phylogenetic tree)\n",
    "\n",
    "We also add the reference genome and those that we sequenced in our lab"
   ]
  },
  {
   "cell_type": "code",
   "execution_count": null,
   "id": "6eaeec28",
   "metadata": {},
   "outputs": [],
   "source": [
    "outF=open(\"selected_for_phylogeny.fasta\",\"w\")\n",
    "\n",
    "df3.set_index(\"Virus name\",inplace=True)\n",
    "\n",
    "for i in SeqIO.parse(\"/home/student/DATA/new_variants_data/Gisaid_sequences_subset.fasta\",\"fasta\"):\n",
    "    if str(i.id).strip().split(\"|\")[0] in LL:\n",
    "        i.id=str(i.id).strip().split(\"|\")[0]+\"|\"+str(df3.loc[str(i.id).strip().split(\"|\")[0]][\"Pango lineage\"])\n",
    "        SeqIO.write(i,outF,\"fasta\")\n",
    "\n",
    "outF.close()\n",
    "\n",
    "\n",
    "!cat Reference_SARS-CoV-2.fasta selected_for_phylogeny.fasta NEW.fasta > selected+reference.fasta"
   ]
  },
  {
   "cell_type": "markdown",
   "id": "9a2b8a35",
   "metadata": {},
   "source": [
    "Let's take a look at our sequences now. We need to align them!"
   ]
  },
  {
   "cell_type": "code",
   "execution_count": null,
   "id": "64567ddb",
   "metadata": {},
   "outputs": [],
   "source": [
    "#!seaview selected+reference.fasta\n",
    "ll=[]\n",
    "c=0\n",
    "for i in SeqIO.parse(\"selected+reference.fasta\", \"fasta\"):\n",
    "    c+=1\n",
    "    i.seq=i.seq[50:100]\n",
    "    i.id=str(c)\n",
    "    ll.append(i)\n",
    "\n",
    "SeqIO.write(ll,sys.stdout, \"phylip\")"
   ]
  },
  {
   "cell_type": "markdown",
   "id": "7e99b5e3",
   "metadata": {},
   "source": [
    "To align the sequences and visualize them again:"
   ]
  },
  {
   "cell_type": "code",
   "execution_count": null,
   "id": "d2e0cbf9",
   "metadata": {},
   "outputs": [],
   "source": [
    "!mafft --auto selected+reference.fasta > selected+reference.fasta.aln\n",
    "\n",
    "#!seaview selected+reference.fasta.aln\n",
    "\n",
    "ll=[]\n",
    "c=0\n",
    "for i in SeqIO.parse(\"selected+reference.fasta.aln\", \"fasta\"):\n",
    "    c+=1\n",
    "    i.seq=i.seq[50:100]\n",
    "    i.id=str(c)\n",
    "    ll.append(i)\n",
    "SeqIO.write(ll,sys.stdout, \"phylip\")"
   ]
  },
  {
   "cell_type": "markdown",
   "id": "da595664",
   "metadata": {},
   "source": [
    "=======\n",
    "\n",
    "And now build the phylogenetic tree, and visualize it"
   ]
  },
  {
   "cell_type": "code",
   "execution_count": null,
   "id": "64268699",
   "metadata": {},
   "outputs": [],
   "source": [
    "!iqtree -mset HKY,TIM2,GTR -mfreq F -mrate G,R -alrt 1000 -bb 1000 -s selected+reference.fasta.aln -T 2 -redo > /dev/null"
   ]
  },
  {
   "cell_type": "code",
   "execution_count": null,
   "id": "92e7f3ea",
   "metadata": {},
   "outputs": [],
   "source": [
    "mpl.rcParams['font.size'] = 8\n",
    "\n",
    "mpl.rcParams['figure.figsize'] = (23, 23)\n",
    "mpl.rcParams['figure.dpi'] = 300\n",
    "mpl.rcParams['lines.linewidth'] = 1\n",
    "\n",
    "\n",
    "tree = Phylo.read('selected+reference.fasta.aln.treefile', 'newick')\n",
    "tree.root_with_outgroup(\"NC_045512.2\")\n",
    "Phylo.draw(tree)\n",
    "\n",
    "#!seaview selected+reference.fasta.aln.treefile"
   ]
  },
  {
   "cell_type": "markdown",
   "id": "381a16df",
   "metadata": {},
   "source": [
    "...and extract the SNPs that originated the new clade"
   ]
  },
  {
   "cell_type": "code",
   "execution_count": null,
   "id": "bb8fb19a",
   "metadata": {},
   "outputs": [],
   "source": [
    "####READ ALN\n",
    "\n",
    "aln=AlignIO.read(\"selected+reference.fasta.aln\",\"fasta\")\n",
    "\n",
    "##select the U.3 clade\n",
    "\n",
    "aln2=MultipleSeqAlignment([])\n",
    "\n",
    "for i in aln:\n",
    "    if \"U.3\" in str(i.id):\n",
    "        aln2.append(i)\n",
    "        \n",
    "##trim alignment 5'\n",
    "\n",
    "for pos in range(aln2.get_alignment_length()):\n",
    "    if not \"-\" in aln[:, pos]:\n",
    "        p5p = pos\n",
    "        break\n",
    "\n",
    "##trim alignment 3'\n",
    "\n",
    "for pos in reversed(range(aln2.get_alignment_length())):\n",
    "    if not \"-\" in aln[:, pos]:\n",
    "        p3p = pos\n",
    "        break\n",
    "\n",
    "aln2=aln2[:, p5p:p3p]\n",
    "\n",
    "        \n",
    "###EXTRACT SNPS and compare groups      \n",
    "\n",
    "DICT={}\n",
    "for i in range(0,len(aln2[0].seq)):\n",
    "    POS=list(aln2[:, i])\n",
    "    if len(set(POS))>1:\n",
    "        our_clade=[]\n",
    "        other_taxa=[]\n",
    "\n",
    "        for y in range(0,len(aln2)):\n",
    "            if \"our_genome\".upper() in str(aln2[y].id).upper():\n",
    "                our_clade.append(aln2[y,i])\n",
    "            else:\n",
    "                other_taxa.append(aln2[y,i])\n",
    "        OUR=max({x:our_clade.count(x) for x in list(set(our_clade))}.items(), key=operator.itemgetter(1))[0]\n",
    "        OTHER=max({x:other_taxa.count(x) for x in list(set(other_taxa))}.items(), key=operator.itemgetter(1))[0]\n",
    "        \n",
    "        if OUR!=OTHER:\n",
    "            #print(i,OUR,OTHER,our_clade,other_taxa)\n",
    "            OU=collections.Counter(our_clade)\n",
    "            OU=\",\".join([i.upper()+\":\"+str(OU[i]) for i in OU])\n",
    "            OT=collections.Counter(other_taxa)\n",
    "            OT=\",\".join([i.upper()+\":\"+str(OT[i]) for i in OT])\n",
    "            DICT[i]={\"PREVALENT_IN_CLADE\":OUR.upper(),\"PREVALENT_OUTSIDE\":OTHER.upper(),\"INSIDE_COUNT\":OU, \"OUTSIDE_COUNT\":OT}\n",
    "        \n",
    "df=pd.DataFrame.from_dict(DICT, orient=\"index\")\n",
    "print(df)"
   ]
  }
 ],
 "metadata": {
  "kernelspec": {
   "display_name": "Python 3",
   "language": "python",
   "name": "python3"
  },
  "language_info": {
   "codemirror_mode": {
    "name": "ipython",
    "version": 3
   },
   "file_extension": ".py",
   "mimetype": "text/x-python",
   "name": "python",
   "nbconvert_exporter": "python",
   "pygments_lexer": "ipython3",
   "version": "3.8.10"
  }
 },
 "nbformat": 4,
 "nbformat_minor": 5
}
